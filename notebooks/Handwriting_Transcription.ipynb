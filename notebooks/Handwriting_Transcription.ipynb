{
  "nbformat": 4,
  "nbformat_minor": 0,
  "metadata": {
    "colab": {
      "name": "Handwriting Transcription.ipynb",
      "version": "0.3.2",
      "provenance": [],
      "include_colab_link": true
    },
    "kernelspec": {
      "name": "python3",
      "display_name": "Python 3"
    }
  },
  "cells": [
    {
      "cell_type": "markdown",
      "metadata": {
        "id": "view-in-github",
        "colab_type": "text"
      },
      "source": [
        "<a href=\"https://colab.research.google.com/github/jeffreyshen19/Digital-Transcription/blob/master/notebooks/Handwriting_Transcription.ipynb\" target=\"_parent\"><img src=\"https://colab.research.google.com/assets/colab-badge.svg\" alt=\"Open In Colab\"/></a>"
      ]
    },
    {
      "metadata": {
        "id": "H9Obh6-hpL9Q",
        "colab_type": "text"
      },
      "cell_type": "markdown",
      "source": [
        "# Handwriting Transcription \n",
        "The objective of this project is to create a neural network which can transcribe images of handwritten and typed text. \n",
        "  \n",
        "*Jeffrey Shen*"
      ]
    },
    {
      "metadata": {
        "id": "4Ps4CixffZhT",
        "colab_type": "code",
        "colab": {}
      },
      "cell_type": "code",
      "source": [
        ""
      ],
      "execution_count": 0,
      "outputs": []
    }
  ]
}